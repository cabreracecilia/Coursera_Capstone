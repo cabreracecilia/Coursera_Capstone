{
 "cells": [
  {
   "cell_type": "markdown",
   "id": "bf047a00-ecde-4924-bd7b-2b53b794f64b",
   "metadata": {},
   "source": [
    "## Proyecto final La Batalla de los Vecindarios (Semana 1)\n"
   ]
  },
  {
   "cell_type": "markdown",
   "id": "ad3e5602-b159-4229-9e2e-82b127fdb2bd",
   "metadata": {},
   "source": [
    "## Introducción"
   ]
  },
  {
   "cell_type": "markdown",
   "id": "dcdc83b8-1119-4818-864b-034c689740e1",
   "metadata": {},
   "source": [
    "El departamento con más crecimiento en Bolivia es Santa Cruz de la Sierra. El Instituto Nacional de Estadística (INE) reporto que Santa Cruz aumentó un 21% su población en los últimos nueve años; es decir, pasó de tener 2.779.271 a 3.363.377 habitantes, entre el 2012 y el 2021.\n",
    "Este aumento de población ha estado acompañado con un proceso de expansión horizontal que se refleja en la ciudad capital, donde hay más de 600 barrios que aún están en proceso de ser regularizados y los límites con municipios aledaños están sobrepuestos por el crecimiento.\n",
    "La población actual del departamento representa el 28,48% del total de Bolivia que alcanza a 11.841.955 habitantes, y la proyección es que mantendrá su ritmo de crecimiento, de acuerdo a los datos del INE. Fuente: https://eldeber.com.bo/edicion-impresa/santa-cruz-es-el-departamento-que-mas-crece-y-la-ciudad-tiene-600-barrios-sin-regularizar_246948"
   ]
  },
  {
   "cell_type": "markdown",
   "id": "83651e7f-afd0-420f-9705-a43defbc89b8",
   "metadata": {},
   "source": [
    "## Definición del Problema Comercial"
   ]
  },
  {
   "cell_type": "markdown",
   "id": "e608132b-20c9-4d00-9926-70b156a42eaf",
   "metadata": {},
   "source": [
    "\n",
    "Debido a que el 28,48% del total de la población boliviana se encuentra en el departamento de Santa Cruz, y de acuerdo a la proyección este crecimiento continuará en los proximos años, un grupo de inversionistas desea realizar un estudio del departamento de Santa Cruz de la Sierra para determinar la zona con mayor potencial para desarrollar un proyecto de inversión.\n"
   ]
  },
  {
   "cell_type": "markdown",
   "id": "90824a48-3c50-4737-b94c-ea04de3d33e0",
   "metadata": {},
   "source": [
    "## Fuente de datos"
   ]
  },
  {
   "cell_type": "markdown",
   "id": "febc7aea-ad7e-4109-8fe5-16de5e8675b5",
   "metadata": {},
   "source": [
    "Utilizaremos los datos de la api de FOURSQUARE,que incluyen variables como locales comerciales, centros turisticos, el nivel socioeconómico, la oferta de servicios públicos, entre otras. Tambien utilizaremos las Coordenadas geograficas\n",
    "\n",
    "Utilizaremos información de la pagina de Wikipedia en el siguiente link https://es.wikipedia.org/wiki/Santa_Cruz_de_la_Sierra\n",
    "\n",
    "Se realizará un proceso de limpieza a los datos y se analizarán para determinar la mejor zona de inversión."
   ]
  }
 ],
 "metadata": {
  "kernelspec": {
   "display_name": "Python",
   "language": "python",
   "name": "conda-env-python-py"
  },
  "language_info": {
   "codemirror_mode": {
    "name": "ipython",
    "version": 3
   },
   "file_extension": ".py",
   "mimetype": "text/x-python",
   "name": "python",
   "nbconvert_exporter": "python",
   "pygments_lexer": "ipython3",
   "version": "3.7.12"
  }
 },
 "nbformat": 4,
 "nbformat_minor": 5
}
