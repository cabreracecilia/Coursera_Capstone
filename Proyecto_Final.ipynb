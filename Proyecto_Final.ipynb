{
 "cells": [
  {
   "cell_type": "markdown",
   "id": "0b10e3be-7fa1-4bfd-8b75-74c81cc5f74d",
   "metadata": {},
   "source": [
    "Notebook del Proyecto Final"
   ]
  },
  {
   "cell_type": "markdown",
   "id": "95948c7c-abfb-4b15-8586-3cf284fdf803",
   "metadata": {},
   "source": [
    "Este notebook se utilizará principalmente para el proyecto final"
   ]
  },
  {
   "cell_type": "code",
   "execution_count": 2,
   "id": "de8f7f7a-3df6-480c-9b89-7e67c39bc7b3",
   "metadata": {},
   "outputs": [
    {
     "name": "stdout",
     "output_type": "stream",
     "text": [
      "¡Hola, Proyecto Final del Curso!\n"
     ]
    }
   ],
   "source": [
    "import pandas as pd\n",
    "import numpy as np\n",
    "print (\"¡Hola, Proyecto Final del Curso!\")"
   ]
  }
 ],
 "metadata": {
  "kernelspec": {
   "display_name": "Python",
   "language": "python",
   "name": "conda-env-python-py"
  },
  "language_info": {
   "codemirror_mode": {
    "name": "ipython",
    "version": 3
   },
   "file_extension": ".py",
   "mimetype": "text/x-python",
   "name": "python",
   "nbconvert_exporter": "python",
   "pygments_lexer": "ipython3",
   "version": "3.7.12"
  }
 },
 "nbformat": 4,
 "nbformat_minor": 5
}
